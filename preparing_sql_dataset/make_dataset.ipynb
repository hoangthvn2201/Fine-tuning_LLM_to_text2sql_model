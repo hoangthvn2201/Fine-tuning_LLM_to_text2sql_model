{
 "cells": [
  {
   "cell_type": "code",
   "execution_count": null,
   "metadata": {},
   "outputs": [],
   "source": [
    "data = [\n",
    "    [\n",
    "        \"List all innovations with saved hours greater than 50.\",\n",
    "        \"SELECT ImprovementName FROM Jidouka WHERE TotalTimeSaved > 50;\",\n",
    "        \"{Tables: [Jidouka], Columns: [Jidouka.ImprovementName, Jidouka.TotalTimeSaved], Foreign keys: [], Possible cell values: [50]}\",\n",
    "        \"What are the tools used in these innovations?\",\n",
    "        \"SELECT DISTINCT Tool.ToolName FROM Tool JOIN JidoukaTool ON Tool.ToolId = JidoukaTool.ToolId JOIN Jidouka ON JidoukaTool.JidoukaId = Jidouka.JidoukaId WHERE Jidouka.TotalTimeSaved > 50;\"\n",
    "    ],\n",
    "    [\n",
    "        \"Which design center groups worked on innovations launched in 2023?\",\n",
    "        \"SELECT DISTINCT GroupDC.GroupDCName FROM GroupDC JOIN Jidouka ON GroupDC.GroupDCId = Jidouka.GroupDCId WHERE YEAR(Jidouka.DateCreate) = 2023;\",\n",
    "        \"{Tables: [GroupDC, Jidouka], Columns: [GroupDC.GroupDCName, Jidouka.GroupDCId, Jidouka.DateCreate], Foreign keys: [Jidouka.GroupDCId=GroupDC.GroupDCId], Possible cell values: [2023]}\",\n",
    "        \"What was the total time saved by these groups?\",\n",
    "        \"SELECT GroupDC.GroupDCName, SUM(Jidouka.TotalTimeSaved) AS TotalSaved FROM GroupDC JOIN Jidouka ON GroupDC.GroupDCId = Jidouka.GroupDCId WHERE YEAR(Jidouka.DateCreate) = 2023 GROUP BY GroupDC.GroupDCName;\"\n",
    "    ],\n",
    "    [\n",
    "        \"List all authors working in the department 'DC1'.\",\n",
    "        \"SELECT Author.AuthorName FROM Author JOIN Department ON Author.DepartmentId = Department.DepartmentId WHERE Department.DepartmentName = 'DC1';\",\n",
    "        \"{Tables: [Author, Department], Columns: [Author.AuthorName, Author.DepartmentId, Department.DepartmentName], Foreign keys: [Author.DepartmentId=Department.DepartmentId], Possible cell values: [DC1]}\",\n",
    "        \"What innovations were created by these authors?\",\n",
    "        \"SELECT Jidouka.ImprovementName FROM Jidouka JOIN Author ON Jidouka.AuthorId = Author.AuthorId WHERE Author.DepartmentId = (SELECT DepartmentId FROM Department WHERE DepartmentName = 'DC1');\"\n",
    "    ],\n",
    "    [\n",
    "        \"Which tasks used 'Python AI Tool'?\",\n",
    "        \"SELECT Job.JobName FROM Job JOIN Jidouka ON Job.JobId = Jidouka.JobId JOIN JidoukaTool ON Jidouka.JidoukaId = JidoukaTool.JidoukaId JOIN Tool ON JidoukaTool.ToolId = Tool.ToolId WHERE Tool.ToolName = 'Python AI Tool';\",\n",
    "        \"{Tables: [Job, Jidouka, JidoukaTool, Tool], Columns: [Job.JobName, Tool.ToolName], Foreign keys: [Jidouka.JobId=Job.JobId, JidoukaTool.JidoukaId=Jidouka.JidoukaId, JidoukaTool.ToolId=Tool.ToolId], Possible cell values: ['Python AI Tool']}\",\n",
    "        \"Who created these tasks?\",\n",
    "        \"SELECT Job.JobName, Author.AuthorName FROM Job JOIN Jidouka ON Job.JobId = Jidouka.JobId JOIN Author ON Jidouka.AuthorId = Author.AuthorId WHERE Jidouka.JobId IN (SELECT JobId FROM JidoukaTool JOIN Tool ON JidoukaTool.ToolId = Tool.ToolId WHERE Tool.ToolName = 'Python AI Tool');\"\n",
    "    ],\n",
    "    [\n",
    "        \"Find all innovations with 'Video Tutorials'.\",\n",
    "        \"SELECT ImprovementName FROM Jidouka WHERE Video IS NOT NULL;\",\n",
    "        \"{Tables: [Jidouka], Columns: [Jidouka.ImprovementName, Jidouka.Video], Foreign keys: [], Possible cell values: [Not Null]}\",\n",
    "        \"What departments launched these innovations?\",\n",
    "        \"SELECT DISTINCT Department.DepartmentName FROM Department JOIN Jidouka ON Department.DepartmentId = Jidouka.DepartmentId WHERE Jidouka.Video IS NOT NULL;\"\n",
    "    ],\n",
    "    \n",
    "    # Not related to schema\n",
    "    [\n",
    "        \"What is the capital of Japan?\",\n",
    "        \"The capital of Japan is Tokyo.\",\n",
    "        None,\n",
    "        \"What is the population of Japan?\",\n",
    "        \"As of recent estimates, the population of Japan is approximately 125 million.\"\n",
    "    ],\n",
    "    [\n",
    "        \"Who is the president of the United States in 2024?\",\n",
    "        \"The president of the United States in 2024 is Joe Biden.\",\n",
    "        None,\n",
    "        \"What is his vice president's name?\",\n",
    "        \"His vice president is Kamala Harris.\"\n",
    "    ],\n",
    "    [\n",
    "        \"What is quantum computing?\",\n",
    "        \"Quantum computing is a type of computing that uses quantum-mechanical phenomena like superposition and entanglement to perform computations.\",\n",
    "        None,\n",
    "        \"Can you explain quantum entanglement?\",\n",
    "        \"Quantum entanglement is a phenomenon where particles become interconnected such that the state of one immediately influences the state of the other, regardless of distance.\"\n",
    "    ],\n",
    "    [\n",
    "        \"What is the highest mountain in the world?\",\n",
    "        \"The highest mountain in the world is Mount Everest.\",\n",
    "        None,\n",
    "        \"Where is Mount Everest located?\",\n",
    "        \"Mount Everest is located in the Himalayas, on the border between Nepal and Tibet.\"\n",
    "    ],\n",
    "    [\n",
    "        \"What is the stock market?\",\n",
    "        \"I am not sure about that.\",\n",
    "        None,\n",
    "        \"How can I invest in stocks?\",\n",
    "        \"I am not sure about that either.\"\n",
    "    ],   \n",
    "\n",
    "\n",
    "\n",
    "\n",
    "]"
   ]
  },
  {
   "cell_type": "code",
   "execution_count": 27,
   "metadata": {},
   "outputs": [
    {
     "data": {
      "text/plain": [
       "186"
      ]
     },
     "execution_count": 27,
     "metadata": {},
     "output_type": "execute_result"
    }
   ],
   "source": [
    "len(data)"
   ]
  },
  {
   "cell_type": "code",
   "execution_count": 28,
   "metadata": {},
   "outputs": [],
   "source": [
    "import re\n",
    "def modify_query(query):\n",
    "    modified_query = re.sub(r\"= '([^']*)'\", r\"LIKE LOWER('%\\1%')\", query)\n",
    "    return modified_query"
   ]
  },
  {
   "cell_type": "code",
   "execution_count": 29,
   "metadata": {},
   "outputs": [],
   "source": [
    "data2 = []\n",
    "for i in range(len(data)):\n",
    "    lst = []\n",
    "    lst.append(data[i][0])\n",
    "    lst.append(modify_query(data[i][1]))\n",
    "    lst.append(data[i][2])\n",
    "    lst.append(data[i][3])\n",
    "    lst.append(modify_query(data[i][4]))\n",
    "    data2.append(lst)"
   ]
  },
  {
   "cell_type": "code",
   "execution_count": 30,
   "metadata": {},
   "outputs": [],
   "source": [
    "dct = {'previous_question':[], 'previous_answer':[], 'schema_linking':[], 'question':[], 'answer':[]}\n",
    "for i in range(len(data2)):\n",
    "    dct['previous_question'].append(data[i][0])\n",
    "    dct['previous_answer'].append(data2[i][1])\n",
    "    dct['schema_linking'].append(data2[i][2])\n",
    "    dct['question'].append(data2[i][3])\n",
    "    dct['answer'].append(data2[i][4])"
   ]
  },
  {
   "cell_type": "code",
   "execution_count": 31,
   "metadata": {},
   "outputs": [],
   "source": [
    "import pandas as pd \n",
    "df3 = pd.DataFrame(dct)\n",
    "df3 = df3.sample(frac=1)"
   ]
  },
  {
   "cell_type": "code",
   "execution_count": 32,
   "metadata": {},
   "outputs": [
    {
     "data": {
      "text/plain": [
       "186"
      ]
     },
     "execution_count": 32,
     "metadata": {},
     "output_type": "execute_result"
    }
   ],
   "source": [
    "len(df3)"
   ]
  },
  {
   "cell_type": "code",
   "execution_count": null,
   "metadata": {},
   "outputs": [],
   "source": [
    "df3.to_csv('output.csv', index=False)"
   ]
  }
 ],
 "metadata": {
  "kernelspec": {
   "display_name": "text2sql",
   "language": "python",
   "name": "python3"
  },
  "language_info": {
   "codemirror_mode": {
    "name": "ipython",
    "version": 3
   },
   "file_extension": ".py",
   "mimetype": "text/x-python",
   "name": "python",
   "nbconvert_exporter": "python",
   "pygments_lexer": "ipython3",
   "version": "3.12.7"
  }
 },
 "nbformat": 4,
 "nbformat_minor": 2
}
